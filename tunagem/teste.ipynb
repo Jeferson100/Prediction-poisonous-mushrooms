{
 "cells": [
  {
   "cell_type": "code",
   "execution_count": 1,
   "metadata": {},
   "outputs": [],
   "source": [
    "import pandas as pd\n",
    "import numpy as np\n",
    "from sklearn.model_selection import RandomizedSearchCV\n",
    "from catboost import CatBoostClassifier\n",
    "import sys\n",
    "sys.path.append('../')\n",
    "from tratamento import Tratamento\n",
    "import pickle\n",
    "import sys "
   ]
  },
  {
   "cell_type": "code",
   "execution_count": 3,
   "metadata": {},
   "outputs": [],
   "source": [
    "import os\n",
    "path_codigos_rodando = os.path.join(os.getcwd())"
   ]
  },
  {
   "cell_type": "code",
   "execution_count": 14,
   "metadata": {},
   "outputs": [],
   "source": [
    "# Constrói o caminho absoluto da raiz do projeto\n",
    "root_dir = os.path.abspath(os.path.join(os.getcwd(), '..'))\n",
    "\n",
    "# Constrói o caminho absoluto para o arquivo 'dados_tratados.pkl' dentro da pasta 'dados'\n",
    "diretorio = os.path.join(root_dir, 'dados_tratados.pkl')"
   ]
  },
  {
   "cell_type": "code",
   "execution_count": 17,
   "metadata": {},
   "outputs": [
    {
     "name": "stdout",
     "output_type": "stream",
     "text": [
      "Arquivo não encontrado.\n"
     ]
    }
   ],
   "source": [
    "sys.path.append('../')\n",
    "\n",
    "try:\n",
    "    with open(diretorio, 'rb') as f:\n",
    "        dados_tratados = pickle.load(f)\n",
    "except FileNotFoundError:\n",
    "    print('Arquivo não encontrado.')\n",
    "\n",
    "#x_train = dados_tratados['x_train']\n",
    "#y_train = dados_tratados['y_train']"
   ]
  },
  {
   "cell_type": "code",
   "execution_count": 20,
   "metadata": {},
   "outputs": [
    {
     "data": {
      "text/plain": [
       "'/workspaces/binary_prediction_poisonous_mushrooms/dados/dados_tratados.pkl'"
      ]
     },
     "execution_count": 20,
     "metadata": {},
     "output_type": "execute_result"
    }
   ],
   "source": [
    "# Adicione o diretório ao sys.path\n",
    "sys.path.append('binary_prediction_poisonous_mushrooms')\n",
    "\n",
    "# Defina o caminho do arquivo\n",
    "file_path = os.path.join('/workspaces','binary_prediction_poisonous_mushrooms', 'dados', 'dados_tratados.pkl')\n",
    "file_path"
   ]
  },
  {
   "cell_type": "code",
   "execution_count": 21,
   "metadata": {},
   "outputs": [],
   "source": [
    "with open(file_path, 'rb') as f:\n",
    "    dados_tratados = pickle.load(f)\n"
   ]
  },
  {
   "cell_type": "code",
   "execution_count": null,
   "metadata": {},
   "outputs": [],
   "source": []
  }
 ],
 "metadata": {
  "kernelspec": {
   "display_name": "env",
   "language": "python",
   "name": "python3"
  },
  "language_info": {
   "codemirror_mode": {
    "name": "ipython",
    "version": 3
   },
   "file_extension": ".py",
   "mimetype": "text/x-python",
   "name": "python",
   "nbconvert_exporter": "python",
   "pygments_lexer": "ipython3",
   "version": "3.10.14"
  }
 },
 "nbformat": 4,
 "nbformat_minor": 2
}
